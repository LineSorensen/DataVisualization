{
 "cells": [
  {
   "cell_type": "code",
   "execution_count": 7,
   "metadata": {},
   "outputs": [],
   "source": [
    "import pandas as pd"
   ]
  },
  {
   "cell_type": "code",
   "execution_count": null,
   "metadata": {},
   "outputs": [],
   "source": [
    "# Load the data from data-2020\n",
    "df = pd.read_csv('data-2020/athlete_events.csv')\n",
    "# Print the dataframe with year ascending\n",
    "print(df.sort_values('Year'))\n"
   ]
  },
  {
   "cell_type": "code",
   "execution_count": null,
   "metadata": {},
   "outputs": [
    {
     "name": "stdout",
     "output_type": "stream",
     "text": [
      "      code  current               name     name_short            name_tv  \\\n",
      "0  1532872     True   ALEKSANYAN Artur   ALEKSANYAN A   Artur ALEKSANYAN   \n",
      "1  1532873     True     AMOYAN Malkhas       AMOYAN M     Malkhas AMOYAN   \n",
      "2  1532874     True    GALSTYAN Slavik     GALSTYAN S    Slavik GALSTYAN   \n",
      "3  1532944     True  HARUTYUNYAN Arsen  HARUTYUNYAN A  Arsen HARUTYUNYAN   \n",
      "4  1532945     True    TEVANYAN Vazgen     TEVANYAN V    Vazgen TEVANYAN   \n",
      "\n",
      "  gender function country_code  country country_long  ...  \\\n",
      "0   Male  Athlete          ARM  Armenia      Armenia  ...   \n",
      "1   Male  Athlete          ARM  Armenia      Armenia  ...   \n",
      "2   Male  Athlete          ARM  Armenia      Armenia  ...   \n",
      "3   Male  Athlete          ARM  Armenia      Armenia  ...   \n",
      "4   Male  Athlete          ARM  Armenia      Armenia  ...   \n",
      "\n",
      "                                              family  \\\n",
      "0                          Father, Gevorg Aleksanyan   \n",
      "1                                                NaN   \n",
      "2                                                NaN   \n",
      "3  Wife, Diana (married October 2022). Daughter, ...   \n",
      "4                 Wife, Sona (married November 2023)   \n",
      "\n",
      "                         lang  \\\n",
      "0  Armenian, English, Russian   \n",
      "1                    Armenian   \n",
      "2                    Armenian   \n",
      "3                    Armenian   \n",
      "4           Armenian, Russian   \n",
      "\n",
      "                                               coach  \\\n",
      "0                    Gevorg Aleksanyan (ARM), father   \n",
      "1                                                NaN   \n",
      "2  Personal: Martin Alekhanyan (ARM).<br>National...   \n",
      "3                      National: Habetnak Kurghinyan   \n",
      "4                National: Habetnak Kurghinyan (ARM)   \n",
      "\n",
      "                                              reason  \\\n",
      "0  He followed his father and his uncle into the ...   \n",
      "1                                                NaN   \n",
      "2                                                NaN   \n",
      "3  While doing karate he noticed wrestlers traini...   \n",
      "4  “My family did not like wrestling very much. A...   \n",
      "\n",
      "                                                hero  \\\n",
      "0  Footballer Zinedine Zidane (FRA), World Cup wi...   \n",
      "1                                                NaN   \n",
      "2                                                NaN   \n",
      "3  Wrestler Armen Nazaryan (ARM, BUL), two-time O...   \n",
      "4                                                NaN   \n",
      "\n",
      "                       influence  \\\n",
      "0  His father, Gevorg Aleksanyan   \n",
      "1                            NaN   \n",
      "2                            NaN   \n",
      "3                            NaN   \n",
      "4                            NaN   \n",
      "\n",
      "                                          philosophy  \\\n",
      "0  \"Wrestling is my life.\" (mediamax.am. 18 May 2...   \n",
      "1  \"To become a good athlete, you first have to b...   \n",
      "2                                                NaN   \n",
      "3  “Nothing is impossible, set goals in front of ...   \n",
      "4                                                NaN   \n",
      "\n",
      "                                  sporting_relatives ritual other_sports  \n",
      "0                                                NaN    NaN          NaN  \n",
      "1  Uncle, Roman Amoyan (wrestling), 2008 Olympic ...    NaN          NaN  \n",
      "2                                                NaN    NaN          NaN  \n",
      "3                                                NaN    NaN          NaN  \n",
      "4                                                NaN    NaN          NaN  \n",
      "\n",
      "[5 rows x 36 columns]\n"
     ]
    }
   ],
   "source": [
    "athletes = pd.read_csv('data2024/athletes.csv')\n",
    "print(athletes.head())"
   ]
  },
  {
   "cell_type": "code",
   "execution_count": 14,
   "metadata": {},
   "outputs": [
    {
     "name": "stdout",
     "output_type": "stream",
     "text": [
      "        medal_type  medal_code  medal_date             name gender  \\\n",
      "0       Gold Medal         1.0  2024-07-27  Remco EVENEPOEL      M   \n",
      "23      Gold Medal         1.0  2024-07-27           France      M   \n",
      "24    Silver Medal         2.0  2024-07-27             Fiji      M   \n",
      "25    Bronze Medal         3.0  2024-07-27     South Africa      M   \n",
      "26      Gold Medal         1.0  2024-07-27          China 1      X   \n",
      "...            ...         ...         ...              ...    ...   \n",
      "1013  Silver Medal         2.0  2024-08-11   Elodie CLOUVEL      W   \n",
      "1014  Bronze Medal         3.0  2024-08-11   SEONG Seungmin      W   \n",
      "1015    Gold Medal         1.0  2024-08-11            Italy      W   \n",
      "1018  Silver Medal         2.0  2024-08-11          Croatia      M   \n",
      "1008  Bronze Medal         3.0  2024-08-11    Emma FINUCANE      W   \n",
      "\n",
      "             discipline                        event event_type  \\\n",
      "0          Cycling Road  Men's Individual Time Trial        ATH   \n",
      "23         Rugby Sevens                          Men      HTEAM   \n",
      "24         Rugby Sevens                          Men      HTEAM   \n",
      "25         Rugby Sevens                          Men      HTEAM   \n",
      "26             Shooting     10m Air Rifle Mixed Team      HTEAM   \n",
      "...                 ...                          ...        ...   \n",
      "1013  Modern Pentathlon           Women's Individual        ATH   \n",
      "1014  Modern Pentathlon           Women's Individual        ATH   \n",
      "1015         Volleyball                        Women      HTEAM   \n",
      "1018         Water Polo                          Men      HTEAM   \n",
      "1008      Cycling Track               Women's Sprint        ATH   \n",
      "\n",
      "                                              url_event               code  \\\n",
      "0     /en/paris-2024/results/cycling-road/men-s-indi...            1903136   \n",
      "23    /en/paris-2024/results/rugby-sevens/men/fnl-00...  RU7MTEAM7---FRA01   \n",
      "24    /en/paris-2024/results/rugby-sevens/men/fnl-00...  RU7MTEAM7---FIJ01   \n",
      "25    /en/paris-2024/results/rugby-sevens/men/fnl-00...  RU7MTEAM7---RSA01   \n",
      "26    /en/paris-2024/results/shooting/10m-air-rifle-...  SHOXARMT----CHN01   \n",
      "...                                                 ...                ...   \n",
      "1013  /en/paris-2024/results/modern-pentathlon/women...            1545116   \n",
      "1014  /en/paris-2024/results/modern-pentathlon/women...            1786902   \n",
      "1015  /en/paris-2024/results/volleyball/women/fnl-00...  VVOWTEAM6---ITA01   \n",
      "1018  /en/paris-2024/results/water-polo/men/fnl-0001...  WPOMTEAM7---CRO01   \n",
      "1008  /en/paris-2024/results/cycling-track/women-s-s...            1912522   \n",
      "\n",
      "     country_code        country                country_long  \n",
      "0             BEL        Belgium                     Belgium  \n",
      "23            FRA         France                      France  \n",
      "24            FIJ           Fiji                        Fiji  \n",
      "25            RSA   South Africa                South Africa  \n",
      "26            CHN          China  People's Republic of China  \n",
      "...           ...            ...                         ...  \n",
      "1013          FRA         France                      France  \n",
      "1014          KOR          Korea           Republic of Korea  \n",
      "1015          ITA          Italy                       Italy  \n",
      "1018          CRO        Croatia                     Croatia  \n",
      "1008          GBR  Great Britain               Great Britain  \n",
      "\n",
      "[1044 rows x 13 columns]\n"
     ]
    }
   ],
   "source": [
    "medals = pd.read_csv('data2024/medals.csv')\n",
    "# Print medals with year ascending\n",
    "# print(medals.head())\n",
    "print(medals.sort_values('medal_date'))"
   ]
  },
  {
   "cell_type": "code",
   "execution_count": null,
   "metadata": {},
   "outputs": [],
   "source": [
    "# "
   ]
  }
 ],
 "metadata": {
  "kernelspec": {
   "display_name": "Python 3",
   "language": "python",
   "name": "python3"
  },
  "language_info": {
   "codemirror_mode": {
    "name": "ipython",
    "version": 3
   },
   "file_extension": ".py",
   "mimetype": "text/x-python",
   "name": "python",
   "nbconvert_exporter": "python",
   "pygments_lexer": "ipython3",
   "version": "3.9.6"
  }
 },
 "nbformat": 4,
 "nbformat_minor": 2
}
